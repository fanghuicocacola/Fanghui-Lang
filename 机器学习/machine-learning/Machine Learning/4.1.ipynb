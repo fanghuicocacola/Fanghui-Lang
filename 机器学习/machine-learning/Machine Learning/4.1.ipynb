{
 "cells": [
  {
   "cell_type": "code",
   "execution_count": 20,
   "metadata": {},
   "outputs": [],
   "source": [
    "import numpy as np"
   ]
  },
  {
   "cell_type": "code",
   "execution_count": 21,
   "metadata": {},
   "outputs": [],
   "source": [
    "data = {\n",
    "    'docs':[\n",
    "        'my dog has flea problems help please',\n",
    "        'maybe not take him to dog park stupid',\n",
    "        'my falmation is so cute I love him',\n",
    "        'stop posting stupid worthless garbage',\n",
    "        'mr licks ate my steak how to stop him',\n",
    "        'quit buying worthless dog food stupid',\n",
    "    ],\n",
    "    'labels':[0,1,0,1,0,1]\n",
    "}"
   ]
  },
  {
   "cell_type": "code",
   "execution_count": 22,
   "metadata": {},
   "outputs": [],
   "source": [
    "data['docs']  = list(map(lambda doc:doc.split(' '),data['docs']))"
   ]
  },
  {
   "cell_type": "code",
   "execution_count": 23,
   "metadata": {},
   "outputs": [],
   "source": [
    "def getDocList(docs):\n",
    "    # 初始化空集合\n",
    "    docSet = set([])\n",
    "    for doc in  docs:\n",
    "        # 取交集\n",
    "        docSet = set(doc) | docSet\n",
    "    docList = list(docSet)\n",
    "    docList.sort()\n",
    "    return docList"
   ]
  },
  {
   "cell_type": "code",
   "execution_count": 24,
   "metadata": {},
   "outputs": [],
   "source": [
    "docList = getDocList(data['docs'])"
   ]
  },
  {
   "cell_type": "code",
   "execution_count": 25,
   "metadata": {},
   "outputs": [
    {
     "data": {
      "text/plain": [
       "26"
      ]
     },
     "execution_count": 25,
     "metadata": {},
     "output_type": "execute_result"
    }
   ],
   "source": [
    "docList.index('steak')"
   ]
  },
  {
   "cell_type": "code",
   "execution_count": 26,
   "metadata": {},
   "outputs": [],
   "source": [
    "def doc2V(doc,docList):\n",
    "    # 单词集合 的 维度\n",
    "    dims = len(docList)\n",
    "    # 初始化 坐标点\n",
    "    doc_v = [0]*dims\n",
    "\n",
    "    for word in doc:\n",
    "        if word in docList:\n",
    "            doc_v[docList.index(word)] += 1\n",
    "    # 文档 ——> 向量\n",
    "    return doc_v\n",
    "    "
   ]
  },
  {
   "cell_type": "code",
   "execution_count": 27,
   "metadata": {},
   "outputs": [],
   "source": [
    "docs_v  = list(map(lambda doc:doc2V(doc,docList),data['docs']))"
   ]
  },
  {
   "cell_type": "code",
   "execution_count": 28,
   "metadata": {},
   "outputs": [
    {
     "data": {
      "text/plain": [
       "[['my', 'dog', 'has', 'flea', 'problems', 'help', 'please'],\n",
       " ['maybe', 'not', 'take', 'him', 'to', 'dog', 'park', 'stupid'],\n",
       " ['my', 'falmation', 'is', 'so', 'cute', 'I', 'love', 'him'],\n",
       " ['stop', 'posting', 'stupid', 'worthless', 'garbage'],\n",
       " ['mr', 'licks', 'ate', 'my', 'steak', 'how', 'to', 'stop', 'him'],\n",
       " ['quit', 'buying', 'worthless', 'dog', 'food', 'stupid']]"
      ]
     },
     "execution_count": 28,
     "metadata": {},
     "output_type": "execute_result"
    }
   ],
   "source": [
    "data['docs']"
   ]
  },
  {
   "cell_type": "code",
   "execution_count": 29,
   "metadata": {},
   "outputs": [
    {
     "name": "stdout",
     "output_type": "stream",
     "text": [
      "[0, 0, 0, 0, 1, 0, 1, 0, 0, 1, 1, 0, 0, 0, 0, 0, 0, 0, 1, 0, 0, 1, 0, 1, 0, 0, 0, 0, 0, 0, 0, 0]\n"
     ]
    }
   ],
   "source": [
    "print(doc2V(data['docs'][0],docList))"
   ]
  },
  {
   "cell_type": "code",
   "execution_count": 30,
   "metadata": {},
   "outputs": [],
   "source": [
    "# P(A|B) * P(B) = P(B|A) * P(A)"
   ]
  },
  {
   "cell_type": "code",
   "execution_count": 31,
   "metadata": {},
   "outputs": [
    {
     "data": {
      "text/plain": [
       "[0, 1, 0, 1, 0, 1]"
      ]
     },
     "execution_count": 31,
     "metadata": {},
     "output_type": "execute_result"
    }
   ],
   "source": [
    "data['labels']"
   ]
  },
  {
   "cell_type": "code",
   "execution_count": null,
   "metadata": {},
   "outputs": [],
   "source": []
  },
  {
   "cell_type": "code",
   "execution_count": 32,
   "metadata": {},
   "outputs": [],
   "source": [
    "'''\n",
    "函数功能：\n",
    "    贝叶斯训练\n",
    "输入：\n",
    "    docs_v：docs 的 向量矩阵\n",
    "    labels: 标签list\n",
    "    docList：doc 集合 List（向量空间的基）\n",
    "输出：\n",
    "    P(Doc|C1), P(Doc|C0), P()\n",
    "'''\n",
    "\n",
    "def train(docs_v,labels,docList):\n",
    "    # Abusive\n",
    "    n_doc = len(labels)\n",
    "    # 向量基 永远是 docList\n",
    "    docLen = len(docList)\n",
    "\n",
    "    # 防止零概率出现\n",
    "    p1num = np.ones(docLen)\n",
    "    p0num = np.ones(docLen)\n",
    "    p1Denum,p0Denum = 2, 2\n",
    "    # 遍历 所有的 doc 向量\n",
    "    for i in range(n_doc):\n",
    "        if labels[i] == 1:\n",
    "            p1num += docs_v[i]\n",
    "            p1Denum += np.sum(docs_v[i])\n",
    "        elif labels[i] == 0:\n",
    "            p0num += docs_v[i]\n",
    "            p0Denum += np.sum(docs_v[i])\n",
    "    # p1doc, p0doc, pA\n",
    "    return np.log(p1num/p1Denum), np.log(p0num/p0Denum),np.sum(labels)/n_doc\n",
    "    "
   ]
  },
  {
   "cell_type": "code",
   "execution_count": 33,
   "metadata": {},
   "outputs": [],
   "source": [
    "p1doc,p0doc,pA = train(docs_v,data['labels'],docList)"
   ]
  },
  {
   "cell_type": "code",
   "execution_count": 34,
   "metadata": {},
   "outputs": [
    {
     "data": {
      "text/plain": [
       "array([-3.04452244, -3.04452244, -2.35137526, -3.04452244, -1.94591015,\n",
       "       -3.04452244, -3.04452244, -2.35137526, -2.35137526, -3.04452244,\n",
       "       -3.04452244, -2.35137526, -3.04452244, -3.04452244, -3.04452244,\n",
       "       -3.04452244, -2.35137526, -3.04452244, -3.04452244, -2.35137526,\n",
       "       -2.35137526, -3.04452244, -2.35137526, -3.04452244, -2.35137526,\n",
       "       -3.04452244, -3.04452244, -2.35137526, -1.65822808, -2.35137526,\n",
       "       -2.35137526, -1.94591015])"
      ]
     },
     "execution_count": 34,
     "metadata": {},
     "output_type": "execute_result"
    }
   ],
   "source": [
    "p1doc"
   ]
  },
  {
   "cell_type": "code",
   "execution_count": 35,
   "metadata": {},
   "outputs": [
    {
     "data": {
      "text/plain": [
       "'\\nP(A|B) * P(B)  = P(B|A) * P(A)\\n\\n如何计算 P(doc|C1)\\nP([word0,word1,word2,...,wordN]|C1) = \\nP(word0|C1) * P(word1|C1) * ... * P(wordN|C1) => * 转换成 + \\n\\nsum(log([P(word0|C1)]) + log([P(word1|C1)]) + ... + log([P(wordN|C1)]))\\n'"
      ]
     },
     "execution_count": 35,
     "metadata": {},
     "output_type": "execute_result"
    }
   ],
   "source": [
    "'''\n",
    "P(A|B) * P(B)  = P(B|A) * P(A)\n",
    "\n",
    "如何计算 P(doc|C1)\n",
    "P([word0,word1,word2,...,wordN]|C1) = \n",
    "P(word0|C1) * P(word1|C1) * ... * P(wordN|C1) => * 转换成 + \n",
    "\n",
    "sum(log([P(word0|C1)]) + log([P(word1|C1)]) + ... + log([P(wordN|C1)]))\n",
    "'''"
   ]
  },
  {
   "cell_type": "code",
   "execution_count": 36,
   "metadata": {},
   "outputs": [],
   "source": [
    "'''\n",
    "函数功能：\n",
    "    贝叶斯训练：\n",
    "输入：\n",
    "    P1doc， p0doc, pA\n",
    "输出：\n",
    "    1/0\n",
    "\n",
    "'''\n",
    "\n",
    "def classify(doc,p1doc,p0doc,pA):\n",
    "    doc_v  = doc2V(doc,docList)\n",
    "    # P(doc|C1) = np.sum(np.log(doc_v * p1doc)) * P(C1)\n",
    "    p1 = np.sum(doc_v * p1doc) + np.log(pA)\n",
    "    p0 = np.sum(doc_v * p0doc) + np.log(1-pA)\n",
    "\n",
    "    if p1 > p0:\n",
    "        return 1\n",
    "    else:\n",
    "        return 0"
   ]
  },
  {
   "cell_type": "code",
   "execution_count": 37,
   "metadata": {},
   "outputs": [
    {
     "data": {
      "text/plain": [
       "array([-0.        , -0.        , -0.        , -0.        , -0.        ,\n",
       "       -0.        , -0.        , -0.        , -0.        , -0.        ,\n",
       "       -0.        , -0.        , -0.        , -0.        , -0.        ,\n",
       "       -3.04452244, -0.        , -0.        , -3.04452244, -0.        ,\n",
       "       -0.        , -0.        , -0.        , -0.        , -0.        ,\n",
       "       -0.        , -0.        , -0.        , -0.        , -0.        ,\n",
       "       -0.        , -0.        ])"
      ]
     },
     "execution_count": 37,
     "metadata": {},
     "output_type": "execute_result"
    }
   ],
   "source": [
    "docv  = doc2V('love my dalmation'.split(' '), docList)\n",
    "docv * p1doc"
   ]
  },
  {
   "cell_type": "code",
   "execution_count": 38,
   "metadata": {},
   "outputs": [
    {
     "data": {
      "text/plain": [
       "array([-0.        , -0.        , -0.        , -0.        , -0.        ,\n",
       "       -0.        , -0.        , -0.        , -0.        , -0.        ,\n",
       "       -0.        , -0.        , -0.        , -0.        , -0.        ,\n",
       "       -3.04452244, -0.        , -0.        , -3.04452244, -0.        ,\n",
       "       -0.        , -0.        , -0.        , -0.        , -0.        ,\n",
       "       -0.        , -0.        , -0.        , -0.        , -0.        ,\n",
       "       -0.        , -0.        ])"
      ]
     },
     "execution_count": 38,
     "metadata": {},
     "output_type": "execute_result"
    }
   ],
   "source": [
    "classify('love my dalmation'.split(' '),p1doc,p0doc,pA)\n",
    "docv * p1doc"
   ]
  }
 ],
 "metadata": {
  "interpreter": {
   "hash": "a6dc62afd8b03c17538a9dfce2fcb18f62cec380cc7b77050462a64b7e4e4814"
  },
  "kernelspec": {
   "display_name": "Python 3.8.0 32-bit",
   "language": "python",
   "name": "python3"
  },
  "language_info": {
   "codemirror_mode": {
    "name": "ipython",
    "version": 3
   },
   "file_extension": ".py",
   "mimetype": "text/x-python",
   "name": "python",
   "nbconvert_exporter": "python",
   "pygments_lexer": "ipython3",
   "version": "3.8.0"
  },
  "orig_nbformat": 4
 },
 "nbformat": 4,
 "nbformat_minor": 2
}
