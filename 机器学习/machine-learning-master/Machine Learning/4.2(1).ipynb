{
 "cells": [
  {
   "cell_type": "code",
   "execution_count": 59,
   "metadata": {},
   "outputs": [],
   "source": [
    "import os\n",
    "import re"
   ]
  },
  {
   "cell_type": "code",
   "execution_count": 60,
   "metadata": {},
   "outputs": [],
   "source": [
    "data = {\n",
    "    'docs':[],\n",
    "    'labels':[]\n",
    "}"
   ]
  },
  {
   "cell_type": "code",
   "execution_count": 61,
   "metadata": {},
   "outputs": [
    {
     "data": {
      "text/plain": [
       "['ham', 'spam']"
      ]
     },
     "execution_count": 61,
     "metadata": {},
     "output_type": "execute_result"
    }
   ],
   "source": [
    "os.listdir('email')"
   ]
  },
  {
   "cell_type": "code",
   "execution_count": 62,
   "metadata": {},
   "outputs": [
    {
     "data": {
      "text/plain": [
       "['1.txt',\n",
       " '10.txt',\n",
       " '11.txt',\n",
       " '12.txt',\n",
       " '13.txt',\n",
       " '14.txt',\n",
       " '15.txt',\n",
       " '16.txt',\n",
       " '17.txt',\n",
       " '18.txt',\n",
       " '19.txt',\n",
       " '2.txt',\n",
       " '20.txt',\n",
       " '21.txt',\n",
       " '22.txt',\n",
       " '23.txt',\n",
       " '24.txt',\n",
       " '25.txt',\n",
       " '3.txt',\n",
       " '4.txt',\n",
       " '5.txt',\n",
       " '6.txt',\n",
       " '7.txt',\n",
       " '8.txt',\n",
       " '9.txt']"
      ]
     },
     "execution_count": 62,
     "metadata": {},
     "output_type": "execute_result"
    }
   ],
   "source": [
    "os.listdir('email/spam')"
   ]
  },
  {
   "cell_type": "code",
   "execution_count": 63,
   "metadata": {},
   "outputs": [],
   "source": [
    "for label in os.listdir('email'):\n",
    "    for filename in os.listdir('email/'+label):\n",
    "        doc = open('email/'+label+'/'+filename,errors= 'ignore').read()\n",
    "        # 数据切分\n",
    "        doc = [tok.lower() for tok in re.split(r'\\W', doc) if len(tok) > 1]\n",
    "        data['docs'].append(doc)\n",
    "        data['labels'].append(label)"
   ]
  },
  {
   "cell_type": "code",
   "execution_count": 70,
   "metadata": {},
   "outputs": [
    {
     "data": {
      "text/plain": [
       "['bargains', 'here', 'buy']"
      ]
     },
     "execution_count": 70,
     "metadata": {},
     "output_type": "execute_result"
    }
   ],
   "source": [
    "data['docs'][:3]"
   ]
  },
  {
   "cell_type": "code",
   "execution_count": 65,
   "metadata": {},
   "outputs": [],
   "source": [
    "regEx = re.compile('\\\\w*')"
   ]
  },
  {
   "cell_type": "code",
   "execution_count": 66,
   "metadata": {},
   "outputs": [
    {
     "data": {
      "text/plain": [
       "['bargains',\n",
       " 'here',\n",
       " 'buy',\n",
       " 'phentermin',\n",
       " '37',\n",
       " 'mg',\n",
       " '25',\n",
       " 'buy',\n",
       " 'genuine',\n",
       " 'phentermin',\n",
       " 'at',\n",
       " 'low',\n",
       " 'cost',\n",
       " 'visa',\n",
       " 'accepted',\n",
       " '30',\n",
       " '130',\n",
       " '50',\n",
       " '60',\n",
       " '219',\n",
       " '00',\n",
       " '90',\n",
       " '292',\n",
       " '50',\n",
       " '120',\n",
       " '366',\n",
       " '00',\n",
       " '180',\n",
       " '513',\n",
       " '00']"
      ]
     },
     "execution_count": 66,
     "metadata": {},
     "output_type": "execute_result"
    }
   ],
   "source": [
    "doc"
   ]
  },
  {
   "cell_type": "code",
   "execution_count": 72,
   "metadata": {},
   "outputs": [],
   "source": [
    "data['docs'] = doc\n"
   ]
  },
  {
   "cell_type": "code",
   "execution_count": 73,
   "metadata": {},
   "outputs": [
    {
     "data": {
      "text/plain": [
       "['ham',\n",
       " 'ham',\n",
       " 'ham',\n",
       " 'ham',\n",
       " 'ham',\n",
       " 'ham',\n",
       " 'ham',\n",
       " 'ham',\n",
       " 'ham',\n",
       " 'ham',\n",
       " 'ham',\n",
       " 'ham',\n",
       " 'ham',\n",
       " 'ham',\n",
       " 'ham',\n",
       " 'ham',\n",
       " 'ham',\n",
       " 'ham',\n",
       " 'ham',\n",
       " 'ham',\n",
       " 'ham',\n",
       " 'ham',\n",
       " 'ham',\n",
       " 'ham',\n",
       " 'ham',\n",
       " 'spam',\n",
       " 'spam',\n",
       " 'spam',\n",
       " 'spam',\n",
       " 'spam',\n",
       " 'spam',\n",
       " 'spam',\n",
       " 'spam',\n",
       " 'spam',\n",
       " 'spam',\n",
       " 'spam',\n",
       " 'spam',\n",
       " 'spam',\n",
       " 'spam',\n",
       " 'spam',\n",
       " 'spam',\n",
       " 'spam',\n",
       " 'spam',\n",
       " 'spam',\n",
       " 'spam',\n",
       " 'spam',\n",
       " 'spam',\n",
       " 'spam',\n",
       " 'spam',\n",
       " 'spam']"
      ]
     },
     "execution_count": 73,
     "metadata": {},
     "output_type": "execute_result"
    }
   ],
   "source": [
    "data['labels']"
   ]
  }
 ],
 "metadata": {
  "interpreter": {
   "hash": "a6dc62afd8b03c17538a9dfce2fcb18f62cec380cc7b77050462a64b7e4e4814"
  },
  "kernelspec": {
   "display_name": "Python 3.8.0 32-bit",
   "language": "python",
   "name": "python3"
  },
  "language_info": {
   "codemirror_mode": {
    "name": "ipython",
    "version": 3
   },
   "file_extension": ".py",
   "mimetype": "text/x-python",
   "name": "python",
   "nbconvert_exporter": "python",
   "pygments_lexer": "ipython3",
   "version": "3.8.0"
  },
  "orig_nbformat": 4
 },
 "nbformat": 4,
 "nbformat_minor": 2
}
