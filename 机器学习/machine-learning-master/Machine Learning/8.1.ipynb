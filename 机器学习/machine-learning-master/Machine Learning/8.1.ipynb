{
 "cells": [
  {
   "cell_type": "markdown",
   "metadata": {},
   "source": [
    "## K均值算法"
   ]
  },
  {
   "cell_type": "code",
   "execution_count": 81,
   "metadata": {},
   "outputs": [],
   "source": [
    "import numpy as np\n",
    "import pandas as pd\n",
    "import matplotlib.pyplot as plt"
   ]
  },
  {
   "cell_type": "code",
   "execution_count": 82,
   "metadata": {},
   "outputs": [
    {
     "data": {
      "text/html": [
       "<div>\n",
       "<style scoped>\n",
       "    .dataframe tbody tr th:only-of-type {\n",
       "        vertical-align: middle;\n",
       "    }\n",
       "\n",
       "    .dataframe tbody tr th {\n",
       "        vertical-align: top;\n",
       "    }\n",
       "\n",
       "    .dataframe thead th {\n",
       "        text-align: right;\n",
       "    }\n",
       "</style>\n",
       "<table border=\"1\" class=\"dataframe\">\n",
       "  <thead>\n",
       "    <tr style=\"text-align: right;\">\n",
       "      <th></th>\n",
       "      <th>0</th>\n",
       "      <th>1</th>\n",
       "      <th>2</th>\n",
       "      <th>3</th>\n",
       "      <th>4</th>\n",
       "    </tr>\n",
       "  </thead>\n",
       "  <tbody>\n",
       "    <tr>\n",
       "      <th>0</th>\n",
       "      <td>5.1</td>\n",
       "      <td>3.5</td>\n",
       "      <td>1.4</td>\n",
       "      <td>0.2</td>\n",
       "      <td>Iris-setosa</td>\n",
       "    </tr>\n",
       "    <tr>\n",
       "      <th>1</th>\n",
       "      <td>4.9</td>\n",
       "      <td>3.0</td>\n",
       "      <td>1.4</td>\n",
       "      <td>0.2</td>\n",
       "      <td>Iris-setosa</td>\n",
       "    </tr>\n",
       "    <tr>\n",
       "      <th>2</th>\n",
       "      <td>4.7</td>\n",
       "      <td>3.2</td>\n",
       "      <td>1.3</td>\n",
       "      <td>0.2</td>\n",
       "      <td>Iris-setosa</td>\n",
       "    </tr>\n",
       "    <tr>\n",
       "      <th>3</th>\n",
       "      <td>4.6</td>\n",
       "      <td>3.1</td>\n",
       "      <td>1.5</td>\n",
       "      <td>0.2</td>\n",
       "      <td>Iris-setosa</td>\n",
       "    </tr>\n",
       "    <tr>\n",
       "      <th>4</th>\n",
       "      <td>5.0</td>\n",
       "      <td>3.6</td>\n",
       "      <td>1.4</td>\n",
       "      <td>0.2</td>\n",
       "      <td>Iris-setosa</td>\n",
       "    </tr>\n",
       "  </tbody>\n",
       "</table>\n",
       "</div>"
      ],
      "text/plain": [
       "     0    1    2    3            4\n",
       "0  5.1  3.5  1.4  0.2  Iris-setosa\n",
       "1  4.9  3.0  1.4  0.2  Iris-setosa\n",
       "2  4.7  3.2  1.3  0.2  Iris-setosa\n",
       "3  4.6  3.1  1.5  0.2  Iris-setosa\n",
       "4  5.0  3.6  1.4  0.2  Iris-setosa"
      ]
     },
     "execution_count": 82,
     "metadata": {},
     "output_type": "execute_result"
    }
   ],
   "source": [
    "iris = pd.read_table('iris.txt',header=None,sep=',')\n",
    "iris.head()"
   ]
  },
  {
   "cell_type": "code",
   "execution_count": 83,
   "metadata": {},
   "outputs": [],
   "source": [
    "'''\n",
    "函数功能：欧式距离计算公式\n",
    "'''\n",
    "def disEclud(vecA,vecB):\n",
    "    return np.sum(np.power(vecA - vecB,2),axis=1)"
   ]
  },
  {
   "cell_type": "code",
   "execution_count": 84,
   "metadata": {},
   "outputs": [],
   "source": [
    "def randCent(df,k):\n",
    "    n = df.shape[1]\n",
    "    # 特征值列\n",
    "    data_min = df.iloc[:,:n-1].min()\n",
    "    data_max = df.iloc[:,:n-1].max()\n",
    "    # 随机制定k个质心\n",
    "    return np.random.uniform(data_min,data_max,(k,n-1))"
   ]
  },
  {
   "cell_type": "code",
   "execution_count": 85,
   "metadata": {},
   "outputs": [
    {
     "data": {
      "text/plain": [
       "array([[5.58915063, 3.98436402, 3.29489124, 1.06084396],\n",
       "       [5.67419698, 4.39922327, 4.03826376, 0.13181341],\n",
       "       [5.75501059, 2.39571629, 3.69410284, 0.71383615]])"
      ]
     },
     "execution_count": 85,
     "metadata": {},
     "output_type": "execute_result"
    }
   ],
   "source": [
    "randCent(iris,3)"
   ]
  },
  {
   "cell_type": "markdown",
   "metadata": {},
   "source": [
    "创建k个点作为初始质心\n",
    "当任意一个点的簇分配结果发生改变时：\n",
    "    对于每个点，找到它最接近的质心\n",
    "    将质心更新为其最近数据点的平均值。我们移动质心，让其真正位于群集的中心位置"
   ]
  },
  {
   "cell_type": "code",
   "execution_count": 89,
   "metadata": {},
   "outputs": [],
   "source": [
    "'''\n",
    "函数功能:\n",
    "    k 均值聚类\n",
    "输入： \n",
    "    df：数据集\n",
    "    k:聚类簇的个数\n",
    "    distMet：距离计算公式\n",
    "\n",
    "'''\n",
    "def kmeans(df,k,distMet=disEclud,createCent=randCent):\n",
    "    m,n = df.shape\n",
    "    #初始化质心\n",
    "    centroids  = createCent(df,k)\n",
    "    #序列数据存储\n",
    "    clusterAssment = np.zeros((m,3))\n",
    "    clusterAssment[:,0] = np.inf\n",
    "    clusterAssment[:,1:3] = -1\n",
    "    # 数据拼接\n",
    "    result_set = pd.concat([df,pd.DataFrame(clusterAssment)],axis=1,ignore_index=True)\n",
    "    # 标志位\n",
    "    clusterChanged = True\n",
    "    while clusterChanged:\n",
    "        clusterChanged = False\n",
    "        for i in range(m):\n",
    "            dist = distMet(df.iloc[i, :n-1].values,centroids)\n",
    "            # 当前距离最小值\n",
    "            result_set.iloc[i,-3] = dist.min()\n",
    "            # 当前聚类结果 索引\n",
    "            result_set.iloc[i,-2] = np.where(dist == dist.min())[0]\n",
    "        # 所有点的分类全部不变，才能代表 质心 没有改变\n",
    "        clusterChanged = not(result_set.iloc[:,-1] == result_set.iloc[:,-2]).all()\n",
    "\n",
    "        if clusterChanged:\n",
    "            # 更新质心\n",
    "            cent_df = result_set.groupby(n+1).mean()\n",
    "            centroids = cent_df.iloc[:,:n-1].values\n",
    "            result_set.iloc[:,-1] = result_set.iloc[:,-2]\n",
    "    return centroids,result_set"
   ]
  },
  {
   "cell_type": "code",
   "execution_count": 91,
   "metadata": {},
   "outputs": [],
   "source": [
    "testSet = pd.read_table('testSet(2).txt',header=None)\n",
    "label = pd.DataFrame(np.zeros(testSet.shape[0]))\n",
    "test_set = pd.concat([testSet,label],axis=1,ignore_index=True)"
   ]
  },
  {
   "cell_type": "code",
   "execution_count": 90,
   "metadata": {},
   "outputs": [],
   "source": [
    "test_cent,test_cluster = kmeans(test_set,4)"
   ]
  },
  {
   "cell_type": "code",
   "execution_count": 93,
   "metadata": {},
   "outputs": [
    {
     "data": {
      "text/plain": [
       "<matplotlib.collections.PathCollection at 0x114a18b0>"
      ]
     },
     "execution_count": 93,
     "metadata": {},
     "output_type": "execute_result"
    },
    {
     "data": {
      "image/png": "[encoded data removed]",
      "text/plain": [
       "<Figure size 432x288 with 1 Axes>"
      ]
     },
     "metadata": {
      "needs_background": "light"
     },
     "output_type": "display_data"
    }
   ],
   "source": [
    "# 绘制数据集\n",
    "plt.scatter(test_cluster.iloc[:,0],test_cluster.iloc[:,1],c=test_cluster.iloc[:,-1])\n",
    "# 绘制质心\n",
    "plt.scatter(test_cent[:,0],test_cent[:,1],color='red',marker='x',s=100)"
   ]
  }
 ],
 "metadata": {
  "interpreter": {
   "hash": "8bfad08b73d8ae58273d7e252c9e1d922058e2a21d3a8ccb2a1b9808ae54a57f"
  },
  "kernelspec": {
   "display_name": "Python 3.8.0 32-bit",
   "language": "python",
   "name": "python3"
  },
  "language_info": {
   "codemirror_mode": {
    "name": "ipython",
    "version": 3
   },
   "file_extension": ".py",
   "mimetype": "text/x-python",
   "name": "python",
   "nbconvert_exporter": "python",
   "pygments_lexer": "ipython3",
   "version": "3.8.0"
  },
  "orig_nbformat": 4
 },
 "nbformat": 4,
 "nbformat_minor": 2
}
